{
 "cells": [
  {
   "cell_type": "markdown",
   "id": "52fa385d",
   "metadata": {},
   "source": [
    "# Python Basics\n",
    "\n",
    "## Today Objectives\n",
    "\n",
    "\n",
    "- Output & Input\n",
    "- Variables in Python\n",
    "- Type Conversions in Python\n",
    "- Operators in Python\n",
    "- Conditional Statements"
   ]
  },
  {
   "cell_type": "code",
   "execution_count": 1,
   "id": "b17065f7",
   "metadata": {},
   "outputs": [
    {
     "name": "stdout",
     "output_type": "stream",
     "text": [
      "Hello World\n"
     ]
    }
   ],
   "source": [
    "print(\"Hello World\")"
   ]
  },
  {
   "cell_type": "code",
   "execution_count": 2,
   "id": "add8c07b",
   "metadata": {},
   "outputs": [
    {
     "name": "stdout",
     "output_type": "stream",
     "text": [
      "Today date is 29\n"
     ]
    }
   ],
   "source": [
    "print(\"Today date is\",29)"
   ]
  },
  {
   "cell_type": "code",
   "execution_count": 3,
   "id": "93326e95",
   "metadata": {},
   "outputs": [
    {
     "name": "stdout",
     "output_type": "stream",
     "text": [
      "Todays date is-29\n"
     ]
    }
   ],
   "source": [
    "print(\"Todays date is\",29, sep = '-')"
   ]
  },
  {
   "cell_type": "code",
   "execution_count": 4,
   "id": "d2cb12c4",
   "metadata": {},
   "outputs": [
    {
     "name": "stdout",
     "output_type": "stream",
     "text": [
      "1\t2\t3\t4\t5\t6\n"
     ]
    }
   ],
   "source": [
    "print(1,2,3,4,5,6, sep = '\\t')"
   ]
  },
  {
   "cell_type": "code",
   "execution_count": 5,
   "id": "aa1e1f74",
   "metadata": {},
   "outputs": [
    {
     "name": "stdout",
     "output_type": "stream",
     "text": [
      "1abc2abc3abc4abc5abc6\n"
     ]
    }
   ],
   "source": [
    "print(1,2,3,4,5,6, sep = 'abc')"
   ]
  },
  {
   "cell_type": "code",
   "execution_count": 6,
   "id": "0bd21110",
   "metadata": {},
   "outputs": [
    {
     "name": "stdout",
     "output_type": "stream",
     "text": [
      "Hello World\n",
      "Hello World\n",
      "Hello World3\n"
     ]
    }
   ],
   "source": [
    "print(\"Hello World\")\n",
    "print(\"Hello World\")\n",
    "print(\"Hello World3\")"
   ]
  },
  {
   "cell_type": "code",
   "execution_count": 7,
   "id": "c5136641",
   "metadata": {},
   "outputs": [
    {
     "name": "stdout",
     "output_type": "stream",
     "text": [
      "Hello World\tHello World\n",
      "Hello World3\n"
     ]
    }
   ],
   "source": [
    "print(\"Hello World\", end = '\\t')\n",
    "print(\"Hello World\")\n",
    "print(\"Hello World3\")"
   ]
  },
  {
   "cell_type": "markdown",
   "id": "0cae8710",
   "metadata": {},
   "source": [
    "### Variables\n",
    "\n",
    "It is the named memory locaion which holds some value\n",
    "\n",
    "\n",
    "### Properties of declaring a variable\n",
    "\n",
    "- It contain AZaz09_\n",
    "- It shouldn't start with a numvber\n",
    "- No special characters should included in variable name except _\n",
    "- Keywords are not allowed\n",
    "- Case Sensitive"
   ]
  },
  {
   "cell_type": "code",
   "execution_count": 8,
   "id": "f86077b1",
   "metadata": {},
   "outputs": [],
   "source": [
    "a = 10\n",
    "A = 5"
   ]
  },
  {
   "cell_type": "code",
   "execution_count": 11,
   "id": "fbd2f52d",
   "metadata": {},
   "outputs": [],
   "source": [
    "a = 55\n",
    "_a = 2256\n",
    "# 1a = 66\n",
    "# a-b = 23+66\n",
    "_ = 625\n",
    "a9 = 'Python'\n",
    "a9_ = 'APSSDC'"
   ]
  },
  {
   "cell_type": "markdown",
   "id": "efefb043",
   "metadata": {},
   "source": [
    "### Data Type in Python\n",
    "\n",
    "\n",
    "- Primary Data Types -> int, float, complex, string, boolean\n",
    "- Secondary Data Types -> containers -> List, Tuple, Dictoinary, set"
   ]
  },
  {
   "cell_type": "code",
   "execution_count": 12,
   "id": "438de4e1",
   "metadata": {},
   "outputs": [],
   "source": [
    "a = 55\n",
    "b = 55.66\n",
    "c = 5 + 6j\n",
    "d = True\n",
    "e = 'a+5/.,;'\n",
    "f = ['python', 65, 5+6j, 55.665]\n",
    "g = ('python', 65, 5+6j, 55.665)\n",
    "h = {'Nmae': 'python'}\n",
    "i = {1,2,3,4}\n"
   ]
  },
  {
   "cell_type": "code",
   "execution_count": 13,
   "id": "4060dec9",
   "metadata": {},
   "outputs": [
    {
     "name": "stdout",
     "output_type": "stream",
     "text": [
      "<class 'int'>\n"
     ]
    }
   ],
   "source": [
    "print(type(a))"
   ]
  },
  {
   "cell_type": "code",
   "execution_count": 14,
   "id": "4b3523e6",
   "metadata": {},
   "outputs": [
    {
     "name": "stdout",
     "output_type": "stream",
     "text": [
      "<class 'float'>\n"
     ]
    }
   ],
   "source": [
    "a = 55.66\n",
    "\n",
    "print(type(a))"
   ]
  },
  {
   "cell_type": "code",
   "execution_count": 17,
   "id": "cd7a11e9",
   "metadata": {},
   "outputs": [
    {
     "name": "stdout",
     "output_type": "stream",
     "text": [
      "<class 'complex'> <class 'set'>\n"
     ]
    }
   ],
   "source": [
    "print(type(c), type(i))"
   ]
  },
  {
   "cell_type": "code",
   "execution_count": 24,
   "id": "66c1537b",
   "metadata": {},
   "outputs": [
    {
     "name": "stdout",
     "output_type": "stream",
     "text": [
      "123\n"
     ]
    }
   ],
   "source": [
    "a = input()"
   ]
  },
  {
   "cell_type": "code",
   "execution_count": 25,
   "id": "7943e5e2",
   "metadata": {},
   "outputs": [],
   "source": [
    "abc = 556.6"
   ]
  },
  {
   "cell_type": "code",
   "execution_count": 26,
   "id": "e4d70442",
   "metadata": {},
   "outputs": [
    {
     "name": "stdout",
     "output_type": "stream",
     "text": [
      "<class 'str'>\n"
     ]
    }
   ],
   "source": [
    "print(type(a))"
   ]
  },
  {
   "cell_type": "code",
   "execution_count": 27,
   "id": "01877245",
   "metadata": {},
   "outputs": [
    {
     "name": "stdout",
     "output_type": "stream",
     "text": [
      "[1, 2, 3]\n"
     ]
    }
   ],
   "source": [
    "b = input()"
   ]
  },
  {
   "cell_type": "code",
   "execution_count": 28,
   "id": "5e9e9ed4",
   "metadata": {},
   "outputs": [
    {
     "name": "stdout",
     "output_type": "stream",
     "text": [
      "[1, 2, 3] <class 'str'>\n"
     ]
    }
   ],
   "source": [
    "print(b, type(b))"
   ]
  },
  {
   "cell_type": "markdown",
   "id": "46db0611",
   "metadata": {},
   "source": [
    "### Type Conversions"
   ]
  },
  {
   "cell_type": "code",
   "execution_count": 31,
   "id": "d4140efe",
   "metadata": {},
   "outputs": [
    {
     "name": "stdout",
     "output_type": "stream",
     "text": [
      "123\n",
      "123 <class 'int'>\n"
     ]
    }
   ],
   "source": [
    "a = int(input())\n",
    "\n",
    "\n",
    "print(a, type(a))"
   ]
  },
  {
   "cell_type": "code",
   "execution_count": 33,
   "id": "f0b5b597",
   "metadata": {
    "scrolled": true
   },
   "outputs": [
    {
     "name": "stdout",
     "output_type": "stream",
     "text": [
      "125.336\n",
      "125.336 <class 'float'>\n"
     ]
    }
   ],
   "source": [
    "a = float(input())\n",
    "\n",
    "\n",
    "print(a, type(a))"
   ]
  },
  {
   "cell_type": "markdown",
   "id": "259d6aba",
   "metadata": {},
   "source": [
    "### Number System\n",
    "\n",
    "- Decimal -> 10 -> 0-9\n",
    "- Binary -> 2 -> 0,1\n",
    "- Octal -> 8 -> 0-7\n",
    "- Hexadecimal -> 16 -> 0-F"
   ]
  },
  {
   "cell_type": "code",
   "execution_count": 35,
   "id": "0e800cbc",
   "metadata": {},
   "outputs": [
    {
     "name": "stdout",
     "output_type": "stream",
     "text": [
      "0b110111 0o67 0x37\n"
     ]
    }
   ],
   "source": [
    "a = 55\n",
    "\n",
    "print(bin(a), oct(a), hex(a))"
   ]
  },
  {
   "cell_type": "code",
   "execution_count": 36,
   "id": "cb4dedce",
   "metadata": {},
   "outputs": [
    {
     "name": "stdout",
     "output_type": "stream",
     "text": [
      "55 55 55\n"
     ]
    }
   ],
   "source": [
    "print(int('110111', 2), int('67', 8), int('37', 16))"
   ]
  },
  {
   "cell_type": "code",
   "execution_count": 37,
   "id": "903144cc",
   "metadata": {},
   "outputs": [
    {
     "name": "stdout",
     "output_type": "stream",
     "text": [
      "97\n"
     ]
    }
   ],
   "source": [
    "print(ord('a'))"
   ]
  },
  {
   "cell_type": "code",
   "execution_count": 38,
   "id": "6c720e2b",
   "metadata": {},
   "outputs": [
    {
     "name": "stdout",
     "output_type": "stream",
     "text": [
      "a\n"
     ]
    }
   ],
   "source": [
    "print(chr(97))"
   ]
  },
  {
   "cell_type": "markdown",
   "id": "a9a5c842",
   "metadata": {},
   "source": [
    "### Operators in Python\n",
    "\n",
    "\n",
    "- Arthematic Operator -> +, -, /, %, //, **\n",
    "- Logical -> and, or, not\n",
    "- Compaision/relational -> <, >, <=, >=, ==, !=\n",
    "- Bitwise operator -> &(and), |(or), ~(Not), ^(XOR), >>(right shift), <<(left shift)\n",
    "- Assignment operator -> +=, -=, /=, %=, //=, **==\n",
    "- Identity operators -> is, not is\n",
    "- Membership operators -> in, not in"
   ]
  },
  {
   "cell_type": "code",
   "execution_count": 42,
   "id": "b45a4461",
   "metadata": {},
   "outputs": [
    {
     "name": "stdout",
     "output_type": "stream",
     "text": [
      "14->-6->40->0.4->4->0->16\n"
     ]
    }
   ],
   "source": [
    "a = 4\n",
    "b = 10\n",
    "\n",
    "\n",
    "print(a+b, a-b, a*b, a/b, a % b, a//b, a ** 2, sep = '->')"
   ]
  },
  {
   "cell_type": "markdown",
   "id": "e252d3a9",
   "metadata": {},
   "source": [
    "### and (inp1 * inp2)\n",
    "\n",
    "|inp1| inp2|inp1 and inp2|\n",
    "|----|----|----|\n",
    "|T|T|T\n",
    "|T|F|F\n",
    "|F|T|F\n",
    "|F|F|F\n",
    "\n",
    "### or (inp1 + inp2)\n",
    "\n",
    "|inp1| inp2|inp1 and inp2|\n",
    "|----|----|----|\n",
    "|T|T|T|\n",
    "|T|F|T|\n",
    "|F|T|T|\n",
    "|F|F|F|\n",
    "\n",
    "### not\n",
    "\n",
    "|inp1|not inp1 |\n",
    "|----|----|\n",
    "|F|T|\n",
    "|T|F|"
   ]
  },
  {
   "cell_type": "code",
   "execution_count": 48,
   "id": "8f14d141",
   "metadata": {},
   "outputs": [
    {
     "name": "stdout",
     "output_type": "stream",
     "text": [
      "0->1->False->0-><class 'str'>->False\n"
     ]
    }
   ],
   "source": [
    "a = 1\n",
    "b = 0\n",
    "c = '0'\n",
    "\n",
    "print(a and b, a or b, not a, a and c, type(a and c), not c, sep = '->')"
   ]
  },
  {
   "cell_type": "code",
   "execution_count": 46,
   "id": "1f6bd1b7",
   "metadata": {},
   "outputs": [
    {
     "name": "stdout",
     "output_type": "stream",
     "text": [
      "1 1\n"
     ]
    }
   ],
   "source": [
    "print(c and a, a or c)"
   ]
  },
  {
   "cell_type": "code",
   "execution_count": 49,
   "id": "8b4901d3",
   "metadata": {},
   "outputs": [
    {
     "name": "stdout",
     "output_type": "stream",
     "text": [
      "6\n"
     ]
    }
   ],
   "source": [
    "a = 5\n",
    "b = 6\n",
    "c = 0\n",
    "\n",
    "print(a and b)"
   ]
  },
  {
   "cell_type": "code",
   "execution_count": 50,
   "id": "9e15ff8f",
   "metadata": {},
   "outputs": [
    {
     "name": "stdout",
     "output_type": "stream",
     "text": [
      "0 0\n"
     ]
    }
   ],
   "source": [
    "print(a and c, c and a)"
   ]
  },
  {
   "cell_type": "code",
   "execution_count": 51,
   "id": "60e02f5a",
   "metadata": {},
   "outputs": [
    {
     "name": "stdout",
     "output_type": "stream",
     "text": [
      "True False False\n"
     ]
    }
   ],
   "source": [
    "a = 5\n",
    "b = 6\n",
    "\n",
    "print(a < b, a>b, a == b)"
   ]
  },
  {
   "cell_type": "markdown",
   "id": "13949383",
   "metadata": {},
   "source": [
    "### Bitwise Operators\n",
    "\n",
    "\n",
    "&, |, ~, ^\n",
    "\n",
    "\n",
    "a = 4\n",
    "b = 10\n",
    "\n",
    "4  -> 0100\n",
    "10 -> 1010\n",
    "      ______\n",
    "      0000 -> 0 -> and\n",
    "      1110 -> 14 -> or\n",
    "      \n",
    "~a\n",
    "4  -> 0100\n",
    "      0001\n",
    "     -0101 -> 5\n",
    "      \n"
   ]
  },
  {
   "cell_type": "code",
   "execution_count": 52,
   "id": "6e3cabf8",
   "metadata": {},
   "outputs": [
    {
     "name": "stdout",
     "output_type": "stream",
     "text": [
      "0 14 -5\n"
     ]
    }
   ],
   "source": [
    "a = 4\n",
    "b = 10\n",
    "\n",
    "print(a & b, a | b, ~a)"
   ]
  },
  {
   "cell_type": "markdown",
   "id": "0c53d53a",
   "metadata": {},
   "source": [
    "### \n",
    "\n",
    "XOR -> A'B + AB'\n",
    "\n",
    "|inp1| inp2|inp1 and inp2|\n",
    "|----|----|----|\n",
    "|T|T|F|\n",
    "|T|F|T|\n",
    "|F|T|T|\n",
    "|F|F|F|\n",
    "\n",
    "'''\n",
    "4  -> 0100\n",
    "10 -> 1010\n",
    "      ____\n",
    "      1110 ->14\n",
    "'''"
   ]
  },
  {
   "cell_type": "code",
   "execution_count": 53,
   "id": "d2311875",
   "metadata": {},
   "outputs": [
    {
     "name": "stdout",
     "output_type": "stream",
     "text": [
      "14\n"
     ]
    }
   ],
   "source": [
    "print(a ^ b)"
   ]
  },
  {
   "cell_type": "markdown",
   "id": "d483f1ea",
   "metadata": {},
   "source": [
    "### Left Shift and right shift\n",
    "\n",
    "\n",
    "\n",
    "a = 4 -> 0100\n",
    "\n",
    "\n",
    "a << 2 -> 010000 -> 16\n",
    "\n",
    "a << 2 -> 0001 -> 1"
   ]
  },
  {
   "cell_type": "code",
   "execution_count": 54,
   "id": "2728a7a3",
   "metadata": {},
   "outputs": [
    {
     "name": "stdout",
     "output_type": "stream",
     "text": [
      "16 1\n"
     ]
    }
   ],
   "source": [
    "a = 4\n",
    "\n",
    "print( a << 2, a >> 2)"
   ]
  },
  {
   "cell_type": "code",
   "execution_count": 55,
   "id": "65fa734d",
   "metadata": {},
   "outputs": [
    {
     "name": "stdout",
     "output_type": "stream",
     "text": [
      "15\n",
      "25\n",
      "20\n",
      "400\n"
     ]
    }
   ],
   "source": [
    "a = 5\n",
    "\n",
    "a = a + 10\n",
    "print(a)\n",
    "a += 10\n",
    "print(a)\n",
    "a -= 5\n",
    "print(a)\n",
    "a **= 2\n",
    "print(a)"
   ]
  },
  {
   "cell_type": "markdown",
   "id": "6830693b",
   "metadata": {},
   "source": [
    "### Membership Operators"
   ]
  },
  {
   "cell_type": "code",
   "execution_count": 56,
   "id": "9bc9a3bd",
   "metadata": {},
   "outputs": [
    {
     "name": "stdout",
     "output_type": "stream",
     "text": [
      "False False True\n"
     ]
    }
   ],
   "source": [
    "a = 'Python'\n",
    "b = 'Py'\n",
    "c = 'Py'\n",
    "\n",
    "print(a in b, a in c, a not in c)"
   ]
  },
  {
   "cell_type": "markdown",
   "id": "6dd68b5f",
   "metadata": {},
   "source": [
    "### Identity Operators"
   ]
  },
  {
   "cell_type": "code",
   "execution_count": 62,
   "id": "576e0881",
   "metadata": {},
   "outputs": [],
   "source": [
    "a = 5\n",
    "b = 5.5\n",
    "c = 5\n",
    "d = [1,2,3]\n",
    "e = [1,2,3]\n",
    "f = d\n"
   ]
  },
  {
   "cell_type": "code",
   "execution_count": 66,
   "id": "4e2050cb",
   "metadata": {},
   "outputs": [
    {
     "name": "stdout",
     "output_type": "stream",
     "text": [
      "[1, 2, 3]\n"
     ]
    }
   ],
   "source": [
    "print(f)"
   ]
  },
  {
   "cell_type": "code",
   "execution_count": 67,
   "id": "b33c610f",
   "metadata": {},
   "outputs": [
    {
     "name": "stdout",
     "output_type": "stream",
     "text": [
      "True True True\n"
     ]
    }
   ],
   "source": [
    "print(a == c, d == e, d == f)"
   ]
  },
  {
   "cell_type": "code",
   "execution_count": 69,
   "id": "07562f00",
   "metadata": {},
   "outputs": [
    {
     "name": "stdout",
     "output_type": "stream",
     "text": [
      "140719638194096\n",
      "140719638194096\n",
      "2055791182208\n",
      "2055791182208\n",
      "2055791182592\n"
     ]
    }
   ],
   "source": [
    "print(id(a))\n",
    "print(id(c))\n",
    "print(id(d))\n",
    "print(id(f))\n",
    "print(id(e))"
   ]
  },
  {
   "cell_type": "code",
   "execution_count": 71,
   "id": "a93da469",
   "metadata": {},
   "outputs": [
    {
     "name": "stdout",
     "output_type": "stream",
     "text": [
      "[1, 2, 3, 'Python', 'Python']\n",
      "[1, 2, 3, 'Python', 'Python']\n"
     ]
    }
   ],
   "source": [
    "d.append('Python')\n",
    "\n",
    "print(d)\n",
    "print(f)"
   ]
  },
  {
   "cell_type": "code",
   "execution_count": 72,
   "id": "25dbcb55",
   "metadata": {},
   "outputs": [
    {
     "name": "stdout",
     "output_type": "stream",
     "text": [
      "[1, 2, 3, 'Python', 'Python'] [1, 2, 3] [1, 2, 3, 'Python', 'Python']\n",
      "False True False\n"
     ]
    }
   ],
   "source": [
    "print(d,e,f)\n",
    "print(d is e, d is f, e is f, d is not c)"
   ]
  },
  {
   "cell_type": "code",
   "execution_count": null,
   "id": "efb0b0d3",
   "metadata": {},
   "outputs": [],
   "source": []
  }
 ],
 "metadata": {
  "kernelspec": {
   "display_name": "Python 3",
   "language": "python",
   "name": "python3"
  }
 },
 "nbformat": 4,
 "nbformat_minor": 5
}

{
 "cells": [
  {
   "cell_type": "markdown",
   "id": "1465eef5",
   "metadata": {},
   "source": [
    "### Recap\n",
    "\n",
    "- Strings\n",
    "- String Methods\n",
    "- List Intro..\n",
    "\n",
    "### Todays Objectives\n",
    "\n",
    "- Accessing Elements of List\n",
    "    - Indexing\n",
    "    - Slicing\n",
    "- List Methods\n",
    "- Tuple\n",
    "     - Accessing Elements of List of Tuple\n",
    "         - Indexing\n",
    "         - Slicing\n",
    "     - Tuple Methods\n",
    "      "
   ]
  },
  {
   "cell_type": "code",
   "execution_count": 25,
   "id": "a4255011",
   "metadata": {},
   "outputs": [],
   "source": [
    "li = [1, 2, 5, 4, 8, 85]"
   ]
  },
  {
   "cell_type": "code",
   "execution_count": 26,
   "id": "103bee89",
   "metadata": {},
   "outputs": [
    {
     "name": "stdout",
     "output_type": "stream",
     "text": [
      "6 85 1 105\n"
     ]
    }
   ],
   "source": [
    "print(len(li), max(li), min(li), sum(li))"
   ]
  },
  {
   "cell_type": "code",
   "execution_count": 16,
   "id": "e3f2a884",
   "metadata": {},
   "outputs": [
    {
     "name": "stdout",
     "output_type": "stream",
     "text": [
      "7\n"
     ]
    },
    {
     "ename": "TypeError",
     "evalue": "'<' not supported between instances of 'str' and 'int'",
     "output_type": "error",
     "traceback": [
      "\u001b[1;31m---------------------------------------------------------------------------\u001b[0m",
      "\u001b[1;31mTypeError\u001b[0m                                 Traceback (most recent call last)",
      "\u001b[1;32m<ipython-input-16-831c9faba063>\u001b[0m in \u001b[0;36m<module>\u001b[1;34m\u001b[0m\n\u001b[0;32m      4\u001b[0m \u001b[0mprint\u001b[0m\u001b[1;33m(\u001b[0m\u001b[0mlen\u001b[0m\u001b[1;33m(\u001b[0m\u001b[0mli2\u001b[0m\u001b[1;33m)\u001b[0m\u001b[1;33m)\u001b[0m\u001b[1;33m\u001b[0m\u001b[1;33m\u001b[0m\u001b[0m\n\u001b[0;32m      5\u001b[0m \u001b[1;33m\u001b[0m\u001b[0m\n\u001b[1;32m----> 6\u001b[1;33m \u001b[0mprint\u001b[0m\u001b[1;33m(\u001b[0m\u001b[0mmin\u001b[0m\u001b[1;33m(\u001b[0m\u001b[0mli2\u001b[0m\u001b[1;33m)\u001b[0m\u001b[1;33m)\u001b[0m\u001b[1;33m\u001b[0m\u001b[1;33m\u001b[0m\u001b[0m\n\u001b[0m",
      "\u001b[1;31mTypeError\u001b[0m: '<' not supported between instances of 'str' and 'int'"
     ]
    }
   ],
   "source": [
    "li2 = [1, 2, 5, 4, 8, 85, 'Python']\n",
    "\n",
    "\n",
    "print(len(li2))\n",
    "\n",
    "print(min(li2))"
   ]
  },
  {
   "cell_type": "markdown",
   "id": "bf26b6bd",
   "metadata": {},
   "source": [
    "### Accessing Elements from the list\n",
    "\n",
    "\n",
    "- Indexing\n",
    "    - +ve\n",
    "    - -ve\n",
    "- Slicing\n",
    "    - +ve\n",
    "    - -ve"
   ]
  },
  {
   "cell_type": "code",
   "execution_count": 23,
   "id": "e99ceb1e",
   "metadata": {},
   "outputs": [
    {
     "name": "stdout",
     "output_type": "stream",
     "text": [
      "1\n"
     ]
    }
   ],
   "source": [
    "print(li[0])"
   ]
  },
  {
   "cell_type": "code",
   "execution_count": 27,
   "id": "17a6821c",
   "metadata": {},
   "outputs": [
    {
     "name": "stdout",
     "output_type": "stream",
     "text": [
      "85\n"
     ]
    }
   ],
   "source": [
    "print(li[5])"
   ]
  },
  {
   "cell_type": "code",
   "execution_count": 28,
   "id": "6257d24f",
   "metadata": {},
   "outputs": [
    {
     "name": "stdout",
     "output_type": "stream",
     "text": [
      "8\n"
     ]
    }
   ],
   "source": [
    "print(li[-2])"
   ]
  },
  {
   "cell_type": "code",
   "execution_count": 29,
   "id": "3e45561e",
   "metadata": {},
   "outputs": [
    {
     "name": "stdout",
     "output_type": "stream",
     "text": [
      "1\n"
     ]
    }
   ],
   "source": [
    "print(li[-6])"
   ]
  },
  {
   "cell_type": "code",
   "execution_count": 30,
   "id": "8ae44c20",
   "metadata": {},
   "outputs": [
    {
     "ename": "IndexError",
     "evalue": "list index out of range",
     "output_type": "error",
     "traceback": [
      "\u001b[1;31m---------------------------------------------------------------------------\u001b[0m",
      "\u001b[1;31mIndexError\u001b[0m                                Traceback (most recent call last)",
      "\u001b[1;32m<ipython-input-30-c96b4b304720>\u001b[0m in \u001b[0;36m<module>\u001b[1;34m\u001b[0m\n\u001b[1;32m----> 1\u001b[1;33m \u001b[0mprint\u001b[0m\u001b[1;33m(\u001b[0m\u001b[0mli\u001b[0m\u001b[1;33m[\u001b[0m\u001b[1;36m7\u001b[0m\u001b[1;33m]\u001b[0m\u001b[1;33m)\u001b[0m\u001b[1;33m\u001b[0m\u001b[1;33m\u001b[0m\u001b[0m\n\u001b[0m",
      "\u001b[1;31mIndexError\u001b[0m: list index out of range"
     ]
    }
   ],
   "source": [
    "print(li[7])"
   ]
  },
  {
   "cell_type": "code",
   "execution_count": 31,
   "id": "ac3773ff",
   "metadata": {},
   "outputs": [
    {
     "ename": "TypeError",
     "evalue": "list indices must be integers or slices, not float",
     "output_type": "error",
     "traceback": [
      "\u001b[1;31m---------------------------------------------------------------------------\u001b[0m",
      "\u001b[1;31mTypeError\u001b[0m                                 Traceback (most recent call last)",
      "\u001b[1;32m<ipython-input-31-f165e6fb7646>\u001b[0m in \u001b[0;36m<module>\u001b[1;34m\u001b[0m\n\u001b[1;32m----> 1\u001b[1;33m \u001b[0mprint\u001b[0m\u001b[1;33m(\u001b[0m\u001b[0mli\u001b[0m\u001b[1;33m[\u001b[0m\u001b[1;36m1.2\u001b[0m\u001b[1;33m]\u001b[0m\u001b[1;33m)\u001b[0m\u001b[1;33m\u001b[0m\u001b[1;33m\u001b[0m\u001b[0m\n\u001b[0m",
      "\u001b[1;31mTypeError\u001b[0m: list indices must be integers or slices, not float"
     ]
    }
   ],
   "source": [
    "print(li[1.2])"
   ]
  },
  {
   "cell_type": "markdown",
   "id": "4a10d116",
   "metadata": {},
   "source": [
    "### Syntax\n",
    "\n",
    "list_var[SI: EI]"
   ]
  },
  {
   "cell_type": "code",
   "execution_count": 33,
   "id": "1d91200a",
   "metadata": {},
   "outputs": [
    {
     "name": "stdout",
     "output_type": "stream",
     "text": [
      "[1] [1, 2] [1, 2] [1, 2, 5, 4, 8, 85]\n"
     ]
    }
   ],
   "source": [
    "print(li[0:1], li[0:2], li[: 2], li[0: ])"
   ]
  },
  {
   "cell_type": "code",
   "execution_count": 34,
   "id": "9571d189",
   "metadata": {},
   "outputs": [
    {
     "name": "stdout",
     "output_type": "stream",
     "text": [
      "[1, 2, 5, 4] [] [8, 85] [8, 85] [1, 2, 5]\n"
     ]
    }
   ],
   "source": [
    "print(li[:-2], li[-1:-3], li[4:], li[len(li) -2:], li[:-3])"
   ]
  },
  {
   "cell_type": "code",
   "execution_count": 36,
   "id": "787668e1",
   "metadata": {},
   "outputs": [
    {
     "name": "stdout",
     "output_type": "stream",
     "text": [
      "[8, 85] [4, 8, 85]\n"
     ]
    }
   ],
   "source": [
    "print(li[-2: ], li[-3: ])"
   ]
  },
  {
   "cell_type": "code",
   "execution_count": 37,
   "id": "2303e850",
   "metadata": {},
   "outputs": [
    {
     "name": "stdout",
     "output_type": "stream",
     "text": [
      "[85, 8, 4]\n"
     ]
    }
   ],
   "source": [
    "print(li[: 2:-1])"
   ]
  },
  {
   "cell_type": "code",
   "execution_count": 38,
   "id": "b964748d",
   "metadata": {},
   "outputs": [
    {
     "data": {
      "text/plain": [
       "[1, 2, 5, 4, 8, 85]"
      ]
     },
     "execution_count": 38,
     "metadata": {},
     "output_type": "execute_result"
    }
   ],
   "source": [
    "li"
   ]
  },
  {
   "cell_type": "code",
   "execution_count": 39,
   "id": "99cd45fa",
   "metadata": {},
   "outputs": [
    {
     "name": "stdout",
     "output_type": "stream",
     "text": [
      "[85, 8, 4]\n"
     ]
    }
   ],
   "source": [
    "print(li[:2:-1])"
   ]
  },
  {
   "cell_type": "code",
   "execution_count": 40,
   "id": "e1c0964b",
   "metadata": {},
   "outputs": [
    {
     "name": "stdout",
     "output_type": "stream",
     "text": [
      "[85, 8, 4, 5, 2, 1]\n"
     ]
    }
   ],
   "source": [
    "print(li[: :-1])"
   ]
  },
  {
   "cell_type": "code",
   "execution_count": 41,
   "id": "e3eabd3a",
   "metadata": {},
   "outputs": [
    {
     "name": "stdout",
     "output_type": "stream",
     "text": [
      "[1, 5, 8]\n"
     ]
    }
   ],
   "source": [
    "print(li[: :2])"
   ]
  },
  {
   "cell_type": "code",
   "execution_count": 42,
   "id": "0a9a2acd",
   "metadata": {},
   "outputs": [
    {
     "name": "stdout",
     "output_type": "stream",
     "text": [
      "[85, 4, 2]\n"
     ]
    }
   ],
   "source": [
    "print(li[: :-2])"
   ]
  },
  {
   "cell_type": "code",
   "execution_count": 43,
   "id": "e2ef75b0",
   "metadata": {},
   "outputs": [
    {
     "name": "stdout",
     "output_type": "stream",
     "text": [
      "[1, 2, 5, 4, 8, 85]\n"
     ]
    }
   ],
   "source": [
    "print(li)"
   ]
  },
  {
   "cell_type": "code",
   "execution_count": 44,
   "id": "e429d5e4",
   "metadata": {},
   "outputs": [
    {
     "name": "stdout",
     "output_type": "stream",
     "text": [
      "[1, 2, 5, 4, 8, 85, 'Python']\n"
     ]
    }
   ],
   "source": [
    "print(li2)"
   ]
  },
  {
   "cell_type": "code",
   "execution_count": 45,
   "id": "08b02a9f",
   "metadata": {},
   "outputs": [
    {
     "name": "stdout",
     "output_type": "stream",
     "text": [
      "7\n"
     ]
    }
   ],
   "source": [
    "print(len(li2))"
   ]
  },
  {
   "cell_type": "code",
   "execution_count": 54,
   "id": "6b087538",
   "metadata": {},
   "outputs": [
    {
     "name": "stdout",
     "output_type": "stream",
     "text": [
      "1 85\n"
     ]
    }
   ],
   "source": [
    "print(li2[0], li2[5])"
   ]
  },
  {
   "cell_type": "code",
   "execution_count": 55,
   "id": "d746948c",
   "metadata": {},
   "outputs": [
    {
     "name": "stdout",
     "output_type": "stream",
     "text": [
      "Python 8\n"
     ]
    }
   ],
   "source": [
    "print(li2[-1], li[-2])"
   ]
  },
  {
   "cell_type": "code",
   "execution_count": 56,
   "id": "1949d427",
   "metadata": {},
   "outputs": [
    {
     "data": {
      "text/plain": [
       "'PYTHON'"
      ]
     },
     "execution_count": 56,
     "metadata": {},
     "output_type": "execute_result"
    }
   ],
   "source": [
    "li2[-1].upper()"
   ]
  },
  {
   "cell_type": "code",
   "execution_count": 57,
   "id": "7311ee3b",
   "metadata": {},
   "outputs": [
    {
     "data": {
      "text/plain": [
       "'Python'"
      ]
     },
     "execution_count": 57,
     "metadata": {},
     "output_type": "execute_result"
    }
   ],
   "source": [
    "li2[-1].strip()"
   ]
  },
  {
   "cell_type": "code",
   "execution_count": 58,
   "id": "2c9fc85f",
   "metadata": {},
   "outputs": [
    {
     "name": "stdout",
     "output_type": "stream",
     "text": [
      "[1, 2, 5, 4, 8] [1, 2, 5, 4, 8]\n"
     ]
    }
   ],
   "source": [
    "print(li2[0:5],li2[ :5])"
   ]
  },
  {
   "cell_type": "code",
   "execution_count": 59,
   "id": "f7f35f49",
   "metadata": {},
   "outputs": [
    {
     "name": "stdout",
     "output_type": "stream",
     "text": [
      "[8, 85, 'Python']\n"
     ]
    }
   ],
   "source": [
    "print(li2[-3:])"
   ]
  },
  {
   "cell_type": "code",
   "execution_count": 60,
   "id": "d00dc53a",
   "metadata": {},
   "outputs": [
    {
     "name": "stdout",
     "output_type": "stream",
     "text": [
      "[1, 5, 8, 'Python']\n"
     ]
    }
   ],
   "source": [
    "print(li2[0: :2])"
   ]
  },
  {
   "cell_type": "code",
   "execution_count": 63,
   "id": "a50a9102",
   "metadata": {},
   "outputs": [
    {
     "name": "stdout",
     "output_type": "stream",
     "text": [
      "['Python', 8, 5, 1]\n"
     ]
    }
   ],
   "source": [
    "print(li2[: :-2])"
   ]
  },
  {
   "cell_type": "code",
   "execution_count": 64,
   "id": "b43c5276",
   "metadata": {},
   "outputs": [
    {
     "name": "stdout",
     "output_type": "stream",
     "text": [
      "['Python', 85, 8, 4, 5, 2, 1]\n"
     ]
    }
   ],
   "source": [
    "print(li2[::-1])"
   ]
  },
  {
   "cell_type": "code",
   "execution_count": 65,
   "id": "abde05ca",
   "metadata": {},
   "outputs": [
    {
     "name": "stdout",
     "output_type": "stream",
     "text": [
      "[[1, 2, 3], [4, 5, 6], [6, 7, 8]]\n"
     ]
    }
   ],
   "source": [
    "matrix = [[1,2,3],[4,5,6], [6,7,8]]\n",
    "\n",
    "print(matrix)"
   ]
  },
  {
   "cell_type": "code",
   "execution_count": 66,
   "id": "75713b2c",
   "metadata": {},
   "outputs": [
    {
     "name": "stdout",
     "output_type": "stream",
     "text": [
      "[1, 2, 3]\n"
     ]
    }
   ],
   "source": [
    "print(matrix[0])"
   ]
  },
  {
   "cell_type": "code",
   "execution_count": 68,
   "id": "5db13057",
   "metadata": {},
   "outputs": [
    {
     "name": "stdout",
     "output_type": "stream",
     "text": [
      "1\n"
     ]
    }
   ],
   "source": [
    "print(matrix[0][0])"
   ]
  },
  {
   "cell_type": "code",
   "execution_count": 69,
   "id": "ba5649e1",
   "metadata": {},
   "outputs": [
    {
     "name": "stdout",
     "output_type": "stream",
     "text": [
      "5\n"
     ]
    }
   ],
   "source": [
    "print(matrix[1][1])"
   ]
  },
  {
   "cell_type": "code",
   "execution_count": 71,
   "id": "1195c01f",
   "metadata": {},
   "outputs": [
    {
     "name": "stdout",
     "output_type": "stream",
     "text": [
      "[2, 3] [2]\n"
     ]
    }
   ],
   "source": [
    "print(matrix[0][1:], matrix[0][1:2])"
   ]
  },
  {
   "cell_type": "code",
   "execution_count": 72,
   "id": "bbe18ad4",
   "metadata": {},
   "outputs": [
    {
     "name": "stdout",
     "output_type": "stream",
     "text": [
      "[6, 5, 4]\n"
     ]
    }
   ],
   "source": [
    " print(matrix[1][::-1])"
   ]
  },
  {
   "cell_type": "code",
   "execution_count": 74,
   "id": "016254a6",
   "metadata": {},
   "outputs": [
    {
     "name": "stdout",
     "output_type": "stream",
     "text": [
      "3 8\n"
     ]
    }
   ],
   "source": [
    "print(len(matrix[2]), max(matrix[2]))"
   ]
  },
  {
   "cell_type": "code",
   "execution_count": 75,
   "id": "c83c0c17",
   "metadata": {},
   "outputs": [
    {
     "name": "stdout",
     "output_type": "stream",
     "text": [
      "[2]\n"
     ]
    }
   ],
   "source": [
    "print(matrix[0][1:2])"
   ]
  },
  {
   "cell_type": "code",
   "execution_count": 77,
   "id": "7328c99f",
   "metadata": {},
   "outputs": [
    {
     "name": "stdout",
     "output_type": "stream",
     "text": [
      "1\n",
      "2\n",
      "5\n",
      "4\n",
      "8\n",
      "85\n"
     ]
    }
   ],
   "source": [
    "for ele in li:\n",
    "    print(ele)"
   ]
  },
  {
   "cell_type": "code",
   "execution_count": 78,
   "id": "10d5aea7",
   "metadata": {},
   "outputs": [
    {
     "name": "stdout",
     "output_type": "stream",
     "text": [
      "2\n",
      "5\n",
      "7\n"
     ]
    }
   ],
   "source": [
    "for i in range(3):\n",
    "    for j in range(3):\n",
    "        if j==1:\n",
    "            print(matrix[i][j])"
   ]
  },
  {
   "cell_type": "code",
   "execution_count": 79,
   "id": "e059c255",
   "metadata": {},
   "outputs": [
    {
     "name": "stdout",
     "output_type": "stream",
     "text": [
      "2\n",
      "5\n",
      "7\n"
     ]
    }
   ],
   "source": [
    "for ele in matrix:\n",
    "    print(ele[1])"
   ]
  },
  {
   "cell_type": "code",
   "execution_count": 81,
   "id": "cec870ab",
   "metadata": {},
   "outputs": [
    {
     "name": "stdout",
     "output_type": "stream",
     "text": [
      "[[1, 2, 3], [4, 5, 6], [6, 7, 8]] [6, 7, 8]\n"
     ]
    }
   ],
   "source": [
    "print(matrix[:], matrix[:][2])"
   ]
  },
  {
   "cell_type": "code",
   "execution_count": 83,
   "id": "3db72b76",
   "metadata": {},
   "outputs": [
    {
     "name": "stdout",
     "output_type": "stream",
     "text": [
      "[2, 3]\n",
      "[5, 6]\n",
      "[7, 8]\n",
      "2 3\n",
      "5 6\n",
      "7 8\n"
     ]
    }
   ],
   "source": [
    "for ele in matrix:\n",
    "    print(ele[1:])\n",
    "\n",
    "for ele in matrix:\n",
    "    print(ele[1], ele[2])"
   ]
  },
  {
   "cell_type": "markdown",
   "id": "5fae80b6",
   "metadata": {},
   "source": [
    "### List Methods"
   ]
  },
  {
   "cell_type": "code",
   "execution_count": 84,
   "id": "119fe65c",
   "metadata": {},
   "outputs": [],
   "source": [
    "empty = []"
   ]
  },
  {
   "cell_type": "code",
   "execution_count": 85,
   "id": "1c8d0e4f",
   "metadata": {},
   "outputs": [
    {
     "name": "stdout",
     "output_type": "stream",
     "text": [
      "[5, 55, [1, 2, 3]]\n"
     ]
    }
   ],
   "source": [
    "empty.append(5)\n",
    "empty.append(55)\n",
    "empty.append([1,2,3])\n",
    "\n",
    "print(empty)"
   ]
  },
  {
   "cell_type": "code",
   "execution_count": 86,
   "id": "8732d26f",
   "metadata": {},
   "outputs": [
    {
     "name": "stdout",
     "output_type": "stream",
     "text": [
      "Ener elements to add to list53\n",
      "Ener elements to add to listgdf\n",
      "Ener elements to add to listdgd\n",
      "Ener elements to add to list343\n",
      "Ener elements to add to list5\n"
     ]
    }
   ],
   "source": [
    "for i in range(5):\n",
    "    empty.append(input(\"Ener elements to add to list\"))"
   ]
  },
  {
   "cell_type": "code",
   "execution_count": 87,
   "id": "746a38f4",
   "metadata": {},
   "outputs": [
    {
     "name": "stdout",
     "output_type": "stream",
     "text": [
      "[5, 55, [1, 2, 3], '53', 'gdf', 'dgd', '343', '5']\n"
     ]
    }
   ],
   "source": [
    "print(empty)"
   ]
  },
  {
   "cell_type": "code",
   "execution_count": 1,
   "id": "58c12433",
   "metadata": {},
   "outputs": [
    {
     "ename": "KeyboardInterrupt",
     "evalue": "",
     "output_type": "error",
     "traceback": [
      "\u001b[1;31m---------------------------------------------------------------------------\u001b[0m",
      "\u001b[1;31mKeyboardInterrupt\u001b[0m                         Traceback (most recent call last)",
      "\u001b[1;32m<ipython-input-1-66d9a78a25a4>\u001b[0m in \u001b[0;36m<module>\u001b[1;34m\u001b[0m\n\u001b[0;32m      1\u001b[0m \u001b[0ma\u001b[0m\u001b[1;33m=\u001b[0m\u001b[1;33m[\u001b[0m\u001b[1;34m'a'\u001b[0m\u001b[1;33m]\u001b[0m\u001b[1;33m\u001b[0m\u001b[1;33m\u001b[0m\u001b[0m\n\u001b[0;32m      2\u001b[0m \u001b[1;32mfor\u001b[0m \u001b[0mi\u001b[0m \u001b[1;32min\u001b[0m \u001b[0ma\u001b[0m\u001b[1;33m:\u001b[0m\u001b[1;33m\u001b[0m\u001b[1;33m\u001b[0m\u001b[0m\n\u001b[1;32m----> 3\u001b[1;33m     \u001b[0ma\u001b[0m\u001b[1;33m.\u001b[0m\u001b[0mappend\u001b[0m\u001b[1;33m(\u001b[0m\u001b[0mi\u001b[0m\u001b[1;33m.\u001b[0m\u001b[0mupper\u001b[0m\u001b[1;33m(\u001b[0m\u001b[1;33m)\u001b[0m\u001b[1;33m)\u001b[0m\u001b[1;33m\u001b[0m\u001b[1;33m\u001b[0m\u001b[0m\n\u001b[0m\u001b[0;32m      4\u001b[0m \u001b[1;33m\u001b[0m\u001b[0m\n\u001b[0;32m      5\u001b[0m \u001b[0mprint\u001b[0m\u001b[1;33m(\u001b[0m\u001b[0ma\u001b[0m\u001b[1;33m)\u001b[0m\u001b[1;33m\u001b[0m\u001b[1;33m\u001b[0m\u001b[0m\n",
      "\u001b[1;31mKeyboardInterrupt\u001b[0m: "
     ]
    }
   ],
   "source": [
    "a=['a']\n",
    "for i in a:\n",
    "    a.append(i.upper())\n",
    "    \n",
    "print(a)"
   ]
  },
  {
   "cell_type": "code",
   "execution_count": null,
   "id": "c7dc6918",
   "metadata": {},
   "outputs": [],
   "source": []
  }
 ],
 "metadata": {
  "kernelspec": {
   "display_name": "Python 3",
   "language": "python",
   "name": "python3"
  },
  "language_info": {
   "codemirror_mode": {
    "name": "ipython",
    "version": 3
   },
   "file_extension": ".py",
   "mimetype": "text/x-python",
   "name": "python",
   "nbconvert_exporter": "python",
   "pygments_lexer": "ipython3",
   "version": "3.8.8"
  }
 },
 "nbformat": 4,
 "nbformat_minor": 5
}
